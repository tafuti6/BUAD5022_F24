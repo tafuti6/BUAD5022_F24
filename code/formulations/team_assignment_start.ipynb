{
 "cells": [
  {
   "cell_type": "markdown",
   "id": "a47424e0-2124-4a38-bcb0-6cfdd5b430e8",
   "metadata": {},
   "source": [
    "# Creating Teams\n",
    "\n",
    "You must create student teams for a set of projects. Each student filled out a survey ranking their preference for each of the projects with 1 being their most preferred project and $n$, the total number of projects available, being their least preferred project. Your goal is to assign students to teams attempting to provide them with their preferred choices. It is highly unlikely that every student can be assigned to their top choice. The survey results can be found in the accompanying spreadsheet. Formulate and solve this problem."
   ]
  },
  {
   "cell_type": "markdown",
   "id": "4429c562-c64d-48fc-86ce-d027aefb98cc",
   "metadata": {},
   "source": [
    "## Formulation"
   ]
  },
  {
   "cell_type": "markdown",
   "id": "82f6339a-cdd6-4b80-89e3-65871632f6a7",
   "metadata": {},
   "source": [
    "### How to Proceed?\n",
    "\n",
    "We now have a larger dataset and need to figure out how to bring it all in and manipulate it so that we can create the optimization model and solve it. How do you want to start?"
   ]
  },
  {
   "cell_type": "code",
   "execution_count": null,
   "id": "b2c376dc-9fed-49c1-97c0-e139029cb343",
   "metadata": {},
   "outputs": [],
   "source": [
    "# Import packages we need\n",
    "import pandas as pd\n",
    "import math\n",
    "\n",
    "import gurobipy as gp\n",
    "from gurobipy import GRB"
   ]
  },
  {
   "cell_type": "code",
   "execution_count": null,
   "id": "907ba1ad-b4b9-4e66-8828-3e8e663c7eab",
   "metadata": {},
   "outputs": [],
   "source": [
    "# Read in the data file named 'preferences.xlsx'\n"
   ]
  },
  {
   "cell_type": "code",
   "execution_count": null,
   "id": "aecaa6c6-051c-4651-bf91-8fb21620ffd1",
   "metadata": {},
   "outputs": [],
   "source": [
    "# Loop through the columns of the DataFrame\n",
    "# pulling out the description of the projects\n",
    "# by looking at the first row \n",
    "# We may also want to label each project with a number\n",
    "\n"
   ]
  },
  {
   "cell_type": "code",
   "execution_count": null,
   "id": "2f3d11a5-a260-46f6-88e8-4dfeae1bb454",
   "metadata": {},
   "outputs": [],
   "source": [
    "# Calculate the number of students per team\n"
   ]
  },
  {
   "cell_type": "code",
   "execution_count": null,
   "id": "35928885-c287-4b6f-8281-3b1078a518b9",
   "metadata": {},
   "outputs": [],
   "source": [
    "# loop over all students\n",
    "# Create a tuple representing a student (id, last_name, first_name, email) - key for dictionary\n",
    "# value of dictionary is ordered array of preferences\n",
    "\n"
   ]
  },
  {
   "cell_type": "code",
   "execution_count": null,
   "id": "12602388-3c79-482b-94b2-70e5b75e253c",
   "metadata": {},
   "outputs": [],
   "source": [
    "# Create list to hold the variables and dictionary for costs\n",
    "\n",
    "\n",
    "# Loop over the student preferences, creating variables and cost coefficients\n"
   ]
  },
  {
   "cell_type": "code",
   "execution_count": null,
   "id": "eda40321-9ee7-4c4e-a734-763841941786",
   "metadata": {},
   "outputs": [],
   "source": [
    "# Initialize the model \n",
    "m = gp.Model('student_teams')"
   ]
  },
  {
   "cell_type": "code",
   "execution_count": null,
   "id": "8eed29a4-c09f-4752-8090-b5413ba632f2",
   "metadata": {},
   "outputs": [],
   "source": [
    "# add the variables named x and obj fn cost coefficients\n",
    "\n",
    "m.update()"
   ]
  },
  {
   "cell_type": "code",
   "execution_count": null,
   "id": "3803282e-1f58-410e-bd50-c7390b2aa93f",
   "metadata": {},
   "outputs": [],
   "source": [
    "# Add constraints to limit number of students on a team\n",
    "# All projects \n",
    "\n",
    "\n",
    "# Add lower bound of 5 students per team\n",
    "# All projects \n",
    "\n",
    "\n",
    "# Add constraints to make sure everyone gets assigned a project\n",
    "\n",
    "\n",
    "# update the model\n",
    "m.update()"
   ]
  },
  {
   "cell_type": "code",
   "execution_count": null,
   "id": "dee8f1b1-1728-45f4-a337-294c26a2c86b",
   "metadata": {},
   "outputs": [],
   "source": [
    "# Optimize \n",
    "m.optimize()"
   ]
  },
  {
   "cell_type": "code",
   "execution_count": null,
   "id": "b4c47da8-a065-4be2-ab23-2d922f4a978c",
   "metadata": {},
   "outputs": [],
   "source": [
    "# Get the results\n"
   ]
  },
  {
   "cell_type": "code",
   "execution_count": null,
   "id": "ddcd9fc1-0882-4816-9586-39a54ea60701",
   "metadata": {},
   "outputs": [],
   "source": [
    "# Write the team assignments to a file\n"
   ]
  },
  {
   "cell_type": "markdown",
   "id": "d05b0d23-0fd2-4a6c-8065-d109cc37a203",
   "metadata": {
    "deletable": false,
    "editable": false,
    "slideshow": {
     "slide_type": ""
    },
    "tags": []
   },
   "source": [
    "**&copy; 2024 - Present: Matthew D. Dean, Ph.D.   \n",
    "Clinical Full Professor of Business Analytics at William \\& Mary.**"
   ]
  }
 ],
 "metadata": {
  "kernelspec": {
   "display_name": "Python 3 (ipykernel)",
   "language": "python",
   "name": "python3"
  },
  "language_info": {
   "codemirror_mode": {
    "name": "ipython",
    "version": 3
   },
   "file_extension": ".py",
   "mimetype": "text/x-python",
   "name": "python",
   "nbconvert_exporter": "python",
   "pygments_lexer": "ipython3",
   "version": "3.12.4"
  }
 },
 "nbformat": 4,
 "nbformat_minor": 5
}
